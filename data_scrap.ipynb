{
 "cells": [
  {
   "cell_type": "code",
   "execution_count": 17,
   "metadata": {},
   "outputs": [],
   "source": [
    "#getting HTML content\n",
    "import requests\n",
    "#parsing relevant info\n",
    "import lxml.html as lh\n",
    "#store data as DataFrame\n",
    "import pandas as pd\n"
   ]
  },
  {
   "cell_type": "code",
   "execution_count": 11,
   "metadata": {},
   "outputs": [],
   "source": [
    "url='http://zipatlas.com/us/ca/zip-code-comparison/median-household-income.17.htm'\n",
    "\n",
    "#create a handle, to handle content\n",
    "page = requests.get(url)\n",
    "\n",
    "#store the contents of the website\n",
    "doc = lh.fromstring(page.content)\n",
    "\n",
    "#parse data that are stored between <tr>..</tr> of html\n",
    "tr_elements = doc.xpath('//tr')\n"
   ]
  },
  {
   "cell_type": "code",
   "execution_count": 12,
   "metadata": {},
   "outputs": [
    {
     "data": {
      "text/plain": [
       "[]"
      ]
     },
     "execution_count": 12,
     "metadata": {},
     "output_type": "execute_result"
    }
   ],
   "source": [
    "#Check the length of the first 12 rows\n",
    "[len(T) for T in tr_elements[:12]]"
   ]
  },
  {
   "cell_type": "code",
   "execution_count": 18,
   "metadata": {},
   "outputs": [],
   "source": [
    "dfs = pd.read_html('http://zipatlas.com/us/ca/zip-code-comparison/median-household-income.17.htm')"
   ]
  },
  {
   "cell_type": "code",
   "execution_count": 20,
   "metadata": {},
   "outputs": [
    {
     "name": "stdout",
     "output_type": "stream",
     "text": [
      "    0                                                  1   2\n",
      "0 NaN  Database Download  Median Household Income in ... NaN\n",
      "1 NaN                                                NaN NaN\n",
      "    0                  1\n",
      "0 NaN  Database Download\n",
      "                                                   0\n",
      "0  Median Household Income in California by Zip C...\n",
      "                                                   0   1\n",
      "0  Median Household Income in California by Zip Code NaN\n",
      "    0   1   2   3\n",
      "0 NaN NaN NaN NaN\n",
      "                                                   0\n",
      "0  (function () {  var cx = '01301202441262298383...\n",
      "                                                   0  \\\n",
      "0  (adsbygoogle = window.adsbygoogle || []).push(...   \n",
      "\n",
      "                                                   1  \\\n",
      "0  (adsbygoogle = window.adsbygoogle || []).push(...   \n",
      "\n",
      "                                                   2  \n",
      "0  (adsbygoogle = window.adsbygoogle || []).push(...  \n",
      "                    0                        1\n",
      "0  California Report:  Median Household Income\n",
      "                                                   0\n",
      "0  Related ReportsMedian Household Income in Cali...\n",
      "1  1,601-1,673 out of 1,673 total [ << First ] .....\n",
      "                                                   0  \\\n",
      "0  Alameda (2)Alhambra (2)Anaheim (7)Apple Valley...   \n",
      "\n",
      "                                                   1  \\\n",
      "0  El Cajon (3)El Monte (2)Elk Grove (2)Encino (2...   \n",
      "\n",
      "                                                   2  \\\n",
      "0  Los Angeles (61)Los Gatos (3)Madera (2)Malibu ...   \n",
      "\n",
      "                                                   3  \\\n",
      "0  Pomona (3)Rancho Cordova (2)Rancho Cucamonga (...   \n",
      "\n",
      "                                                   4  \n",
      "0  Santa Maria (3)Santa Monica (5)Santa Rosa (6)S...  \n",
      "        0         1                       2                        3  \\\n",
      "0       #  Zip Code                Location                     City   \n",
      "1   1601.     90006  34.048013, -118.293953  Los Angeles, California   \n",
      "2   1602.     95543  41.867908, -123.794144      Gasquet, California   \n",
      "3   1603.     95814  38.584505, -121.491956   Sacramento, California   \n",
      "4   1604.     91980  32.587557, -116.636816       Tecate, California   \n",
      "..    ...       ...                     ...                      ...   \n",
      "69  1669.     93216  35.772237, -119.269620       Delano, California   \n",
      "70  1670.     91743  34.065838, -117.589053       Guasti, California   \n",
      "71  1671.     90071  34.052917, -118.255178  Los Angeles, California   \n",
      "72  1672.     90822  33.778436, -118.118648   Long Beach, California   \n",
      "73  1673.     93435  35.497189, -121.029429      Harmony, California   \n",
      "\n",
      "             4                   5              6  \n",
      "0   Population  Avg. Income/H/hold  National Rank  \n",
      "1        62765          $20,593.00        #30,362  \n",
      "2          514          $20,511.00        #30,382  \n",
      "3        16598          $20,473.00        #30,396  \n",
      "4           87          $20,417.00        #30,409  \n",
      "..         ...                 ...            ...  \n",
      "69        4412               $0.00        #31,955  \n",
      "70           3               $0.00        #31,956  \n",
      "71           6               $0.00        #31,957  \n",
      "72         422               $0.00        #31,958  \n",
      "73          17               $0.00        #31,959  \n",
      "\n",
      "[74 rows x 7 columns]\n",
      "                                0   1                                   2\n",
      "0  1,601-1,673 out of 1,673 total NaN  [ << First ] ... 12 13 14 15 16 17\n",
      "                                                   0  \\\n",
      "0  % Apart./Condos % Arabs % Asians % Blacks % Bo...   \n",
      "\n",
      "                                                   1  \\\n",
      "0  % Greeks % H/Income < $10k % H/Income > $100k ...   \n",
      "\n",
      "                                                   2  \\\n",
      "0  % Irish % Italians % Japanese % Korens % Lithu...   \n",
      "\n",
      "                                                   3  \n",
      "0  % Seniors Over 65 % Service Jobs % Slovaks % S...  \n"
     ]
    }
   ],
   "source": [
    "for df in dfs:\n",
    "    print(df)"
   ]
  },
  {
   "cell_type": "code",
   "execution_count": null,
   "metadata": {},
   "outputs": [],
   "source": []
  },
  {
   "cell_type": "code",
   "execution_count": null,
   "metadata": {},
   "outputs": [],
   "source": []
  },
  {
   "cell_type": "code",
   "execution_count": null,
   "metadata": {},
   "outputs": [],
   "source": []
  },
  {
   "cell_type": "code",
   "execution_count": null,
   "metadata": {},
   "outputs": [],
   "source": []
  },
  {
   "cell_type": "code",
   "execution_count": null,
   "metadata": {},
   "outputs": [],
   "source": []
  }
 ],
 "metadata": {
  "kernelspec": {
   "display_name": "Python 3",
   "language": "python",
   "name": "python3"
  },
  "language_info": {
   "codemirror_mode": {
    "name": "ipython",
    "version": 3
   },
   "file_extension": ".py",
   "mimetype": "text/x-python",
   "name": "python",
   "nbconvert_exporter": "python",
   "pygments_lexer": "ipython3",
   "version": "3.7.4"
  }
 },
 "nbformat": 4,
 "nbformat_minor": 2
}
